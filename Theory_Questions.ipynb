{
 "cells": [
  {
   "cell_type": "code",
   "execution_count": 1,
   "id": "73f84de2-c593-4f04-9d98-9bb443a060e8",
   "metadata": {},
   "outputs": [],
   "source": [
    "# 1. What is the difference between a function and a method in Python?\n",
    "\n",
    "# functions are independent and can be called from anywhere.\n",
    "# while methods are dependent on a class or object and need to be called using the class or object."
   ]
  },
  {
   "cell_type": "code",
   "execution_count": 5,
   "id": "b7e15a5e-dce7-4ac5-83cf-e03715234f24",
   "metadata": {},
   "outputs": [
    {
     "name": "stdout",
     "output_type": "stream",
     "text": [
      "Hello,my self Aagman!\n"
     ]
    }
   ],
   "source": [
    "#function\n",
    "def greet(name):\n",
    "    return f\"Hello,my self {name}!\"\n",
    "\n",
    "print(greet(\"Aagman\"))  # Output: Hello,my self Aagman!\n"
   ]
  },
  {
   "cell_type": "code",
   "execution_count": 22,
   "id": "0f8ef74d-64f6-4e08-b10b-ecba09560235",
   "metadata": {},
   "outputs": [
    {
     "name": "stdout",
     "output_type": "stream",
     "text": [
      "Hello,my self Aagman!\n"
     ]
    }
   ],
   "source": [
    "#method\n",
    "class Person:\n",
    "    def __init__(self, name):\n",
    "        self.name = name\n",
    "        \n",
    "    def greet(self):\n",
    "        return f\"Hello,my self {self.name}!\"\n",
    "\n",
    "person = Person(\"Aagman\")\n",
    "print(person.greet())  # Output: Hello,my self Aagman!\n"
   ]
  },
  {
   "cell_type": "code",
   "execution_count": 23,
   "id": "2720304b-38cb-45a5-9d37-369463ec8d1d",
   "metadata": {},
   "outputs": [],
   "source": [
    "# 2. Explain the concept of function arguments and parameters in Python.\n",
    "\n",
    "#Arguments >>an argument is the value passed to a function when it's called.\n",
    "#Parameter >>parameters are the variables inside a function's parentheses."
   ]
  },
  {
   "cell_type": "code",
   "execution_count": 24,
   "id": "be5b4c03-262b-4d63-8f0f-3a1973fb67b5",
   "metadata": {},
   "outputs": [],
   "source": [
    "def greet(name):#Here, name is a parameter of the function greet\n",
    "    return f\"Hello,my self {name}!\"\n"
   ]
  },
  {
   "cell_type": "code",
   "execution_count": 25,
   "id": "42b537d4-3fd2-400c-b71e-692cf9d2c456",
   "metadata": {},
   "outputs": [
    {
     "data": {
      "text/plain": [
       "'Hello,my self Aagman!'"
      ]
     },
     "execution_count": 25,
     "metadata": {},
     "output_type": "execute_result"
    }
   ],
   "source": [
    "greet(\"Aagman\")#\"Aagman\" is an argument passed to the function greet.\n"
   ]
  },
  {
   "cell_type": "code",
   "execution_count": 26,
   "id": "20c165ec-e21e-4f84-bf7c-a656c965dd5a",
   "metadata": {},
   "outputs": [],
   "source": [
    "# 3. What are the different ways to define and call a function in Python?"
   ]
  },
  {
   "cell_type": "code",
   "execution_count": 27,
   "id": "963caf49-3bcc-4224-864a-4ea7cc8b74c8",
   "metadata": {},
   "outputs": [],
   "source": [
    "#01 Positional Parameters\n",
    "def add(a, b):\n",
    "    return a + b"
   ]
  },
  {
   "cell_type": "code",
   "execution_count": 28,
   "id": "1b34fd9f-bc31-4df0-81a7-faa2e5cc3fab",
   "metadata": {},
   "outputs": [
    {
     "data": {
      "text/plain": [
       "7"
      ]
     },
     "execution_count": 28,
     "metadata": {},
     "output_type": "execute_result"
    }
   ],
   "source": [
    "add(3,4)"
   ]
  },
  {
   "cell_type": "code",
   "execution_count": 29,
   "id": "9e7984aa-347b-4175-9319-c0fe56149b6d",
   "metadata": {},
   "outputs": [],
   "source": [
    "#02 Default Parameters\n",
    "def greet(name, greeting=\"Hello my name is\"):\n",
    "    return f\"{greeting}, {name}!\"\n"
   ]
  },
  {
   "cell_type": "code",
   "execution_count": 30,
   "id": "d20f6eda-5e99-4e2b-b71e-0dd32e0d7b49",
   "metadata": {},
   "outputs": [
    {
     "data": {
      "text/plain": [
       "'Hello my name is, Aagman!'"
      ]
     },
     "execution_count": 30,
     "metadata": {},
     "output_type": "execute_result"
    }
   ],
   "source": [
    "greet(\"Aagman\")"
   ]
  },
  {
   "cell_type": "code",
   "execution_count": 31,
   "id": "380961bd-cc2c-4740-b356-97963caa9cae",
   "metadata": {},
   "outputs": [],
   "source": [
    "#03 Keyword Arguments\n",
    "def introduce(name, age, city):\n",
    "    return f\"My name is {name}, I'm {age} years old and I live in {city}.\"\n"
   ]
  },
  {
   "cell_type": "code",
   "execution_count": 32,
   "id": "4d8a23d9-3f9b-40cf-9516-6e10bad06811",
   "metadata": {},
   "outputs": [
    {
     "data": {
      "text/plain": [
       "\"My name is Aagman, I'm 21 years old and I live in Vidisha.\""
      ]
     },
     "execution_count": 32,
     "metadata": {},
     "output_type": "execute_result"
    }
   ],
   "source": [
    "introduce(\"Aagman\",21,\"Vidisha\")"
   ]
  },
  {
   "cell_type": "code",
   "execution_count": 33,
   "id": "497df1d6-eca3-4efd-b728-d51921c5099b",
   "metadata": {},
   "outputs": [],
   "source": [
    "#04 No Parameters\n",
    "def say_hello():\n",
    "    return \"Hello, World!\"\n"
   ]
  },
  {
   "cell_type": "code",
   "execution_count": 19,
   "id": "84730748-3788-4546-b27f-42f91121c8b9",
   "metadata": {},
   "outputs": [
    {
     "data": {
      "text/plain": [
       "'Hello, World!'"
      ]
     },
     "execution_count": 19,
     "metadata": {},
     "output_type": "execute_result"
    }
   ],
   "source": [
    "say_hello()"
   ]
  },
  {
   "cell_type": "code",
   "execution_count": 20,
   "id": "a4cc1265-a6ca-40bf-aaf5-7330c88d6c5c",
   "metadata": {},
   "outputs": [],
   "source": [
    "#05 Lambda Functions\n",
    "add = lambda x, y: x + y\n"
   ]
  },
  {
   "cell_type": "code",
   "execution_count": 21,
   "id": "428e452e-3c81-427c-957e-8aac4f36caa0",
   "metadata": {},
   "outputs": [
    {
     "data": {
      "text/plain": [
       "11"
      ]
     },
     "execution_count": 21,
     "metadata": {},
     "output_type": "execute_result"
    }
   ],
   "source": [
    "add(4,7)"
   ]
  },
  {
   "cell_type": "code",
   "execution_count": 35,
   "id": "1802d98a-c756-45f1-94f0-d244e3474de4",
   "metadata": {},
   "outputs": [],
   "source": [
    "# 4. What is the purpose of the `return` statement in a Python function?\n",
    "\n",
    "#return statement marks the end of a function and specifies the value or values to pass back from the function. "
   ]
  },
  {
   "cell_type": "code",
   "execution_count": 36,
   "id": "599e2f07-ce26-461c-b421-677fe31b731f",
   "metadata": {},
   "outputs": [],
   "source": [
    "def add(a, b):\n",
    "    return a + b\n",
    "    \n",
    "result = add(3, 5)  # result will be 8"
   ]
  },
  {
   "cell_type": "code",
   "execution_count": 37,
   "id": "a837cf40-6935-47f1-a185-57d38b61ca18",
   "metadata": {},
   "outputs": [
    {
     "data": {
      "text/plain": [
       "8"
      ]
     },
     "execution_count": 37,
     "metadata": {},
     "output_type": "execute_result"
    }
   ],
   "source": [
    "result"
   ]
  },
  {
   "cell_type": "code",
   "execution_count": 38,
   "id": "57ccc1fc-adca-4e71-85fb-a6df84076c98",
   "metadata": {},
   "outputs": [],
   "source": [
    "#5. What are iterators in Python and how do they differ from iterables?\n",
    "\n",
    "#is an object that is used to iterate over iterable objects like lists, tuples, dicts, and sets.\n",
    "#The iterator object is initialized using the `iter()` method. It uses the `next()` method for iteration."
   ]
  },
  {
   "cell_type": "code",
   "execution_count": 39,
   "id": "26a1652d-3c2a-4853-9a32-3bee6c9ea186",
   "metadata": {},
   "outputs": [
    {
     "name": "stdout",
     "output_type": "stream",
     "text": [
      "1\n",
      "2\n",
      "3\n",
      "4\n"
     ]
    }
   ],
   "source": [
    "my_list = [1, 2, 3, 4]  # This is an iterable\n",
    "\n",
    "# Creating an iterator from the iterable\n",
    "my_iterator = iter(my_list)\n",
    "\n",
    "print(next(my_iterator))  # Output: 1\n",
    "print(next(my_iterator))  # Output: 2\n",
    "print(next(my_iterator))  # Output: 3\n",
    "print(next(my_iterator))  # Output: 4\n"
   ]
  },
  {
   "cell_type": "code",
   "execution_count": 40,
   "id": "ee9dcf01-1c8b-4900-8a07-982dc4a313a8",
   "metadata": {},
   "outputs": [],
   "source": [
    "# 6. Explain the concept of generators in Python and how they are defined?\n",
    "\n",
    "# Generator functions in Python are a way to create iterators in a more concise and memory-efficient mannerf\n",
    "# These functions allow you to iterate over a potentially large sequence of data without loading the entire\n",
    "# sequence into memory.\n",
    "# The main difference between a regular function and a generator function is that the latter uses the yield\n",
    "# keyword to produce a series of values over time, one at a time, rather than returning a single result."
   ]
  },
  {
   "cell_type": "code",
   "execution_count": 44,
   "id": "fb0ce964-2268-494f-81ca-3ad99bfd517c",
   "metadata": {},
   "outputs": [
    {
     "name": "stdout",
     "output_type": "stream",
     "text": [
      "0 1 1 2 3 5 8 "
     ]
    }
   ],
   "source": [
    "def fibonacci(limit):\n",
    "    a, b = 0, 1\n",
    "    while a < limit:\n",
    "        yield a\n",
    "        a, b = b, a + b\n",
    "\n",
    "# Creating a generator object\n",
    "fib = fibonacci(10)\n",
    "\n",
    "for num in fib:\n",
    "    print(num,end= \" \")\n"
   ]
  },
  {
   "cell_type": "code",
   "execution_count": 45,
   "id": "d2f95638-f029-4981-891c-8c799511359a",
   "metadata": {},
   "outputs": [],
   "source": [
    "# 7. What are the advantages of using generators over regular functions?\n",
    "\n",
    "# Use of yield\n",
    "# Lazy Evaluation\n",
    "# Memory Efficiency"
   ]
  },
  {
   "cell_type": "code",
   "execution_count": 51,
   "id": "e9ac3d0a-03ee-4367-acce-f273fde1154c",
   "metadata": {},
   "outputs": [],
   "source": [
    "#8. What is a lambda function in Python and when is it typically used?\n",
    "\n",
    "# A lambda function in Python is a concise way to create anonymous functions, also known as lambda expressions.\n",
    "# Unlike regular functions defined using the def keyword, lambda functions are often used for short-term \n",
    "# operations and are defined in a single line.\n",
    "\n",
    "#The basic syntax of a lambda function is:(lambda arguments: expression)"
   ]
  },
  {
   "cell_type": "code",
   "execution_count": 52,
   "id": "d29ecc45-c713-48c3-80f4-6922c778aa7e",
   "metadata": {},
   "outputs": [
    {
     "name": "stdout",
     "output_type": "stream",
     "text": [
      "8\n"
     ]
    }
   ],
   "source": [
    "# A lambda function that adds two numbers\n",
    "add = lambda x, y: x + y\n",
    "\n",
    "# Calling the lambda function\n",
    "result = add(3, 5)\n",
    "print(result)  # Output: 8\n"
   ]
  },
  {
   "cell_type": "code",
   "execution_count": 53,
   "id": "1e93ac9b-8889-4eb6-8d9d-00573fab6fc5",
   "metadata": {},
   "outputs": [],
   "source": [
    "# 9. Explain the purpose and usage of the `map()` function in Python.\n",
    "\n",
    "\n",
    "# The map() function in Python is used to apply a function to every item in an iterable (such as a list, tuple, or set) and return a new iterable (a map object) with the results. \n",
    "# It is commonly used when you need to transform or process all elements of a sequence in a consistent way."
   ]
  },
  {
   "cell_type": "code",
   "execution_count": 54,
   "id": "4edeaee7-8b57-4368-9de0-08b5a98a1831",
   "metadata": {},
   "outputs": [
    {
     "name": "stdout",
     "output_type": "stream",
     "text": [
      "[1, 4, 9, 16, 25]\n"
     ]
    }
   ],
   "source": [
    "def square(x):\n",
    "    return x * x\n",
    "\n",
    "numbers = [1, 2, 3, 4, 5]\n",
    "result = map(square, numbers)\n",
    "\n",
    "# Converting the map object to a list to see the result\n",
    "print(list(result))  # Output: [1, 4, 9, 16, 25]\n"
   ]
  },
  {
   "cell_type": "code",
   "execution_count": 56,
   "id": "9b9ea9fe-9b67-45f8-9483-b83769f515bf",
   "metadata": {},
   "outputs": [],
   "source": [
    "# 10. What is the difference between `map()`, `reduce()`, and `filter()` functions in Python?\n",
    "\n",
    "# map() transforms items,\n",
    "# filter() selects items based on a condition,\n",
    "# reduce() aggregates items into a single value."
   ]
  },
  {
   "cell_type": "code",
   "execution_count": 59,
   "id": "e0b8aa68-9592-479b-b773-1645c743153b",
   "metadata": {},
   "outputs": [],
   "source": [
    "# map()\n",
    "squares = list(map(lambda x: x**2, [1, 2, 3, 4]))  # Output: [1, 4, 9, 16]\n"
   ]
  },
  {
   "cell_type": "code",
   "execution_count": 58,
   "id": "d36d3dcb-7f5a-4a9d-8d6f-860d80b5a1dc",
   "metadata": {},
   "outputs": [
    {
     "data": {
      "text/plain": [
       "[1, 4, 9, 16]"
      ]
     },
     "execution_count": 58,
     "metadata": {},
     "output_type": "execute_result"
    }
   ],
   "source": [
    "squares"
   ]
  },
  {
   "cell_type": "code",
   "execution_count": 61,
   "id": "51d699bb-a228-4751-90a0-17ccce959039",
   "metadata": {},
   "outputs": [
    {
     "data": {
      "text/plain": [
       "[2, 4]"
      ]
     },
     "execution_count": 61,
     "metadata": {},
     "output_type": "execute_result"
    }
   ],
   "source": [
    "#filter()\n",
    "evens = list(filter(lambda x: x % 2 == 0, [1, 2, 3, 4]))  # Output: [2, 4]\n",
    "evens"
   ]
  },
  {
   "cell_type": "code",
   "execution_count": 63,
   "id": "1f1a1b72-5cff-432b-a27c-32fd771adf8f",
   "metadata": {},
   "outputs": [
    {
     "data": {
      "text/plain": [
       "10"
      ]
     },
     "execution_count": 63,
     "metadata": {},
     "output_type": "execute_result"
    }
   ],
   "source": [
    "#reduce()\n",
    "from functools import reduce\n",
    "sum = reduce(lambda x, y: x + y, [1, 2, 3, 4])  # Output: 10\n",
    "sum"
   ]
  },
  {
   "cell_type": "code",
   "execution_count": 66,
   "id": "d4f780fc-540e-41c8-bade-619a52ed6075",
   "metadata": {},
   "outputs": [
    {
     "name": "stdout",
     "output_type": "stream",
     "text": [
      "The sum of the list elements is : 113\n"
     ]
    }
   ],
   "source": [
    "#11.Using pen & Paper write the internal mechanism for sum operation using  reduce function on this given list:[47,11,42,13]\n",
    "# importing functools for reduce()\n",
    "import functools\n",
    "\n",
    "# initializing list\n",
    "lis = [47,11,42,13]\n",
    "\n",
    "# using reduce to compute sum of list\n",
    "print(\"The sum of the list elements is : \", end=\"\")\n",
    "print(functools.reduce(lambda a, b: a+b, lis))\n"
   ]
  },
  {
   "cell_type": "code",
   "execution_count": null,
   "id": "3f28c973-155e-45ba-97ff-d48de07e805c",
   "metadata": {},
   "outputs": [],
   "source": []
  }
 ],
 "metadata": {
  "kernelspec": {
   "display_name": "Python 3 (ipykernel)",
   "language": "python",
   "name": "python3"
  },
  "language_info": {
   "codemirror_mode": {
    "name": "ipython",
    "version": 3
   },
   "file_extension": ".py",
   "mimetype": "text/x-python",
   "name": "python",
   "nbconvert_exporter": "python",
   "pygments_lexer": "ipython3",
   "version": "3.12.3"
  }
 },
 "nbformat": 4,
 "nbformat_minor": 5
}
