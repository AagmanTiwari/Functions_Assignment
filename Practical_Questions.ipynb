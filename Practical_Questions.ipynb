{
 "cells": [
  {
   "cell_type": "code",
   "execution_count": 1,
   "id": "79b1e29d-ce88-4a86-935c-dfffde9651a5",
   "metadata": {},
   "outputs": [
    {
     "name": "stdout",
     "output_type": "stream",
     "text": [
      "30\n"
     ]
    }
   ],
   "source": [
    "#  1. Write a Python function that takes a list of numbers as input and returns the sum of all even numbers in \n",
    "# the list.\n",
    "\n",
    "def sum_of_even_numbers(numbers):\n",
    "    return sum(num for num in numbers if num % 2 == 0)\n",
    "\n",
    "input_list = [1, 2, 3, 4, 5, 6, 8, 10]\n",
    "result = sum_of_even_numbers(input_list)\n",
    "print(result)  # This will output 30, which is the sum of 2, 4, 6, 8 and 10 from the input list"
   ]
  },
  {
   "cell_type": "code",
   "execution_count": 2,
   "id": "48697f41-d391-414d-9f7d-5fefd622c85e",
   "metadata": {},
   "outputs": [
    {
     "name": "stdout",
     "output_type": "stream",
     "text": [
      "!namgaA fles yM\n"
     ]
    }
   ],
   "source": [
    " # 2. Create a Python function that accepts a string and returns the reverse of that string.\n",
    "\n",
    "def reverse_string(input_string):\n",
    "    return input_string[::-1]\n",
    "\n",
    "input_str = \"My self Aagman!\"\n",
    "reversed_str = reverse_string(input_str)\n",
    "print(reversed_str)"
   ]
  },
  {
   "cell_type": "code",
   "execution_count": 7,
   "id": "534a8f86-a696-4556-acc9-e092d7b9d3dc",
   "metadata": {},
   "outputs": [
    {
     "name": "stdout",
     "output_type": "stream",
     "text": [
      "[1, 4, 9, 16, 25]\n"
     ]
    }
   ],
   "source": [
    "#3.Implement a Python function that takes a list of integers and returns a new list containing the squares of each number.\n",
    "\n",
    "def square_numbers(input_list):\n",
    "    return [x**2 for x in input_list]\n",
    "\n",
    "input_list = [1, 2, 3, 4, 5]\n",
    "squared_list = square_numbers(input_list)\n",
    "print(squared_list)\n"
   ]
  },
  {
   "cell_type": "code",
   "execution_count": 9,
   "id": "c2aefb29-61c1-4b57-b5bb-3fe6edb72c03",
   "metadata": {},
   "outputs": [
    {
     "name": "stdout",
     "output_type": "stream",
     "text": [
      "1 is not prime number\n",
      "2 is a prime number\n",
      "3 is a prime number\n",
      "4 is not prime number\n",
      "5 is a prime number\n",
      "6 is not prime number\n",
      "7 is a prime number\n",
      "8 is not prime number\n",
      "9 is not prime number\n",
      "10 is not prime number\n",
      "11 is a prime number\n",
      "12 is not prime number\n",
      "13 is a prime number\n",
      "14 is not prime number\n",
      "15 is not prime number\n",
      "16 is not prime number\n",
      "17 is a prime number\n",
      "18 is not prime number\n",
      "19 is a prime number\n",
      "20 is not prime number\n",
      "21 is not prime number\n",
      "22 is not prime number\n",
      "23 is a prime number\n",
      "24 is not prime number\n",
      "25 is not prime number\n",
      "26 is not prime number\n",
      "27 is not prime number\n",
      "28 is not prime number\n",
      "29 is a prime number\n",
      "30 is not prime number\n",
      "31 is a prime number\n",
      "32 is not prime number\n",
      "33 is not prime number\n",
      "34 is not prime number\n",
      "35 is not prime number\n",
      "36 is not prime number\n",
      "37 is a prime number\n",
      "38 is not prime number\n",
      "39 is not prime number\n",
      "40 is not prime number\n",
      "41 is a prime number\n",
      "42 is not prime number\n",
      "43 is a prime number\n",
      "44 is not prime number\n",
      "45 is not prime number\n",
      "46 is not prime number\n",
      "47 is a prime number\n",
      "48 is not prime number\n",
      "49 is not prime number\n",
      "50 is not prime number\n",
      "51 is not prime number\n",
      "52 is not prime number\n",
      "53 is a prime number\n",
      "54 is not prime number\n",
      "55 is not prime number\n",
      "56 is not prime number\n",
      "57 is not prime number\n",
      "58 is not prime number\n",
      "59 is a prime number\n",
      "60 is not prime number\n",
      "61 is a prime number\n",
      "62 is not prime number\n",
      "63 is not prime number\n",
      "64 is not prime number\n",
      "65 is not prime number\n",
      "66 is not prime number\n",
      "67 is a prime number\n",
      "68 is not prime number\n",
      "69 is not prime number\n",
      "70 is not prime number\n",
      "71 is a prime number\n",
      "72 is not prime number\n",
      "73 is a prime number\n",
      "74 is not prime number\n",
      "75 is not prime number\n",
      "76 is not prime number\n",
      "77 is not prime number\n",
      "78 is not prime number\n",
      "79 is a prime number\n",
      "80 is not prime number\n",
      "81 is not prime number\n",
      "82 is not prime number\n",
      "83 is a prime number\n",
      "84 is not prime number\n",
      "85 is not prime number\n",
      "86 is not prime number\n",
      "87 is not prime number\n",
      "88 is not prime number\n",
      "89 is a prime number\n",
      "90 is not prime number\n",
      "91 is not prime number\n",
      "92 is not prime number\n",
      "93 is not prime number\n",
      "94 is not prime number\n",
      "95 is not prime number\n",
      "96 is not prime number\n",
      "97 is a prime number\n",
      "98 is not prime number\n",
      "99 is not prime number\n",
      "100 is not prime number\n",
      "101 is a prime number\n",
      "102 is not prime number\n",
      "103 is a prime number\n",
      "104 is not prime number\n",
      "105 is not prime number\n",
      "106 is not prime number\n",
      "107 is a prime number\n",
      "108 is not prime number\n",
      "109 is a prime number\n",
      "110 is not prime number\n",
      "111 is not prime number\n",
      "112 is not prime number\n",
      "113 is a prime number\n",
      "114 is not prime number\n",
      "115 is not prime number\n",
      "116 is not prime number\n",
      "117 is not prime number\n",
      "118 is not prime number\n",
      "119 is not prime number\n",
      "120 is not prime number\n",
      "121 is not prime number\n",
      "122 is not prime number\n",
      "123 is not prime number\n",
      "124 is not prime number\n",
      "125 is not prime number\n",
      "126 is not prime number\n",
      "127 is a prime number\n",
      "128 is not prime number\n",
      "129 is not prime number\n",
      "130 is not prime number\n",
      "131 is a prime number\n",
      "132 is not prime number\n",
      "133 is not prime number\n",
      "134 is not prime number\n",
      "135 is not prime number\n",
      "136 is not prime number\n",
      "137 is a prime number\n",
      "138 is not prime number\n",
      "139 is a prime number\n",
      "140 is not prime number\n",
      "141 is not prime number\n",
      "142 is not prime number\n",
      "143 is not prime number\n",
      "144 is not prime number\n",
      "145 is not prime number\n",
      "146 is not prime number\n",
      "147 is not prime number\n",
      "148 is not prime number\n",
      "149 is a prime number\n",
      "150 is not prime number\n",
      "151 is a prime number\n",
      "152 is not prime number\n",
      "153 is not prime number\n",
      "154 is not prime number\n",
      "155 is not prime number\n",
      "156 is not prime number\n",
      "157 is a prime number\n",
      "158 is not prime number\n",
      "159 is not prime number\n",
      "160 is not prime number\n",
      "161 is not prime number\n",
      "162 is not prime number\n",
      "163 is a prime number\n",
      "164 is not prime number\n",
      "165 is not prime number\n",
      "166 is not prime number\n",
      "167 is a prime number\n",
      "168 is not prime number\n",
      "169 is not prime number\n",
      "170 is not prime number\n",
      "171 is not prime number\n",
      "172 is not prime number\n",
      "173 is a prime number\n",
      "174 is not prime number\n",
      "175 is not prime number\n",
      "176 is not prime number\n",
      "177 is not prime number\n",
      "178 is not prime number\n",
      "179 is a prime number\n",
      "180 is not prime number\n",
      "181 is a prime number\n",
      "182 is not prime number\n",
      "183 is not prime number\n",
      "184 is not prime number\n",
      "185 is not prime number\n",
      "186 is not prime number\n",
      "187 is not prime number\n",
      "188 is not prime number\n",
      "189 is not prime number\n",
      "190 is not prime number\n",
      "191 is a prime number\n",
      "192 is not prime number\n",
      "193 is a prime number\n",
      "194 is not prime number\n",
      "195 is not prime number\n",
      "196 is not prime number\n",
      "197 is a prime number\n",
      "198 is not prime number\n",
      "199 is a prime number\n",
      "200 is not prime number\n"
     ]
    }
   ],
   "source": [
    " # 4. Write a Python function that checks if a given number is prime or not from 1 to 200.\n",
    "\n",
    "def is_prime(num):\n",
    "    if num < 2:\n",
    "        return False\n",
    "    for i in range(2, int(num**0.5) + 1):\n",
    "        if num % i == 0:\n",
    "            return False\n",
    "    return True\n",
    "\n",
    "# Check if a number is prime from 1 to 200\n",
    "def check_prime_numbers():\n",
    "    for num in range(1, 201):\n",
    "        if is_prime(num):\n",
    "            print(f\"{num} is a prime number\")\n",
    "        else:\n",
    "            print(f\"{num} is not prime number\")\n",
    "\n",
    "# Call the function to check prime numbers from 1 to 200\n",
    "check_prime_numbers()"
   ]
  },
  {
   "cell_type": "code",
   "execution_count": 13,
   "id": "6f093417-1927-49f5-9f97-ae5d8fa25cc2",
   "metadata": {},
   "outputs": [
    {
     "name": "stdin",
     "output_type": "stream",
     "text": [
      "Enter the number upto you want to print fibonacci series 12\n"
     ]
    },
    {
     "name": "stdout",
     "output_type": "stream",
     "text": [
      "0 1 1 2 3 5 8 13 21 34 55 89 "
     ]
    }
   ],
   "source": [
    "# 5.Create an iterator class in Python that generates the Fibonacci sequence up to a specified number of terms.\n",
    "\n",
    "class FibonacciIterator:\n",
    "    def __init__(self, max_terms):\n",
    "        self.max_terms = max_terms\n",
    "        self.a = 0\n",
    "        self.b = 1\n",
    "        self.count = 0\n",
    "\n",
    "    def __iter__(self):\n",
    "        return self\n",
    "\n",
    "    def __next__(self):\n",
    "        if self.count < self.max_terms:\n",
    "            result = self.a\n",
    "            self.a, self.b = self.b, self.a + self.b\n",
    "            self.count += 1\n",
    "            return result\n",
    "        else:\n",
    "            raise StopIteration\n",
    "\n",
    "fibonacci_terms = int(input(\"Enter the number upto you want to print fibonacci series\"))\n",
    "fib_sequence = FibonacciIterator(fibonacci_terms)\n",
    "for term in fib_sequence:\n",
    "    print(term, end=\" \")"
   ]
  },
  {
   "cell_type": "code",
   "execution_count": 15,
   "id": "c5a6b88b-edb3-450d-a647-160fd7357e7d",
   "metadata": {},
   "outputs": [
    {
     "name": "stdin",
     "output_type": "stream",
     "text": [
      "enter the base value 2\n",
      "enter the exponent value 5\n"
     ]
    },
    {
     "name": "stdout",
     "output_type": "stream",
     "text": [
      "Powers of 2 up to exponent 5:\n",
      "1 2 4 8 16 32 "
     ]
    }
   ],
   "source": [
    "# 6. Write a generator function in Python that yields the powers of 2 up to a given exponent.\n",
    "\n",
    "def power_generator(base, exponent):\n",
    "    result = 1\n",
    "    for _ in range(exponent + 1):\n",
    "        yield result\n",
    "        result *= base\n",
    "        \n",
    "base = int(input(\"enter the base value\"))\n",
    "exponent = int(input(\"enter the exponent value\"))\n",
    "power_gen = power_generator(base, exponent)\n",
    "print(f\"Powers of {base} up to exponent {exponent}:\")\n",
    "for power in power_gen:\n",
    "    print(power, end=\" \")"
   ]
  },
  {
   "cell_type": "code",
   "execution_count": null,
   "id": "1dc56ef3-434b-47e8-8be2-86d24bf371b9",
   "metadata": {},
   "outputs": [],
   "source": []
  },
  {
   "cell_type": "code",
   "execution_count": null,
   "id": "810a8ba7-930e-46d3-a049-aec47ccc025d",
   "metadata": {},
   "outputs": [],
   "source": [
    "# 7. Implement a generator function that reads a file line by line and yields each line as a string.\n",
    "\n",
    "def file_reader(filepath):\n",
    "    with open(filepath, 'r') as file:\n",
    "        for line in file:\n",
    "            yield line.strip()\n",
    "\n",
    "file_path = \"example.txt\"\n",
    "line_generator = file_reader(file_path)\n",
    "for line in line_generator:\n",
    "    print(line)"
   ]
  },
  {
   "cell_type": "code",
   "execution_count": 19,
   "id": "83802e84-ef68-4bf2-b6c3-9ef1967859c8",
   "metadata": {},
   "outputs": [
    {
     "name": "stdout",
     "output_type": "stream",
     "text": [
      "[('banana', 2), ('apple', 5), ('date', 7), ('cherry', 10)]\n"
     ]
    }
   ],
   "source": [
    "# 8. Use a lambda function in Python to sort a list of tuples based on the second element of each tuple.\n",
    "\n",
    "# List of tuples\n",
    "tuple_list = [('apple', 5), ('banana', 2), ('cherry', 10), ('date', 7)]\n",
    "\n",
    "# Sort the list of tuples based on the second element of each tuple using a lambda function\n",
    "sorted_tuples = sorted(tuple_list, key=lambda x: x[1])\n",
    "\n",
    "# Output the sorted list\n",
    "print(sorted_tuples)"
   ]
  },
  {
   "cell_type": "code",
   "execution_count": 20,
   "id": "11605be2-ff28-4e04-9b32-cc6c150a5134",
   "metadata": {},
   "outputs": [
    {
     "name": "stdout",
     "output_type": "stream",
     "text": [
      "Celsius temperatures: [0, 12, 45.21, 34, 99.91]\n",
      "Fahrenheit temperatures: [32.0, 53.6, 113.378, 93.2, 211.838]\n"
     ]
    }
   ],
   "source": [
    "# 9. Write a Python program that uses `map()` to convert a list of temperatures from Celsius to Fahrenheit.\n",
    "\n",
    "# Celsius to Fahrenheit conversion function\n",
    "def celsius_to_fahrenheit(celsius):\n",
    "    return (celsius * 9/5) + 32\n",
    "\n",
    "# List of temperatures in Celsius\n",
    "celsius_temperatures = [0, 12, 45.21, 34, 99.91]\n",
    "\n",
    "# Use map() to convert the list of temperatures to Fahrenheit\n",
    "fahrenheit_temperatures = list(map(celsius_to_fahrenheit, celsius_temperatures))\n",
    "\n",
    "# Output the original and converted temperatures\n",
    "print(\"Celsius temperatures:\", celsius_temperatures)\n",
    "print(\"Fahrenheit temperatures:\", fahrenheit_temperatures)"
   ]
  },
  {
   "cell_type": "code",
   "execution_count": 21,
   "id": "afc3e7aa-3188-4dc0-8035-0e039d3cf8f6",
   "metadata": {},
   "outputs": [
    {
     "name": "stdout",
     "output_type": "stream",
     "text": [
      "Hll, ths s  smpl strng wth vwls!\n"
     ]
    }
   ],
   "source": [
    "# 10. Create a Python program that uses `filter()` to remove all the vowels from a given string.\n",
    "\n",
    "def remove_vowels(input_string):\n",
    "    vowels = \"aeiouAEIOU\"\n",
    "    return ''.join(filter(lambda x: x not in vowels, input_string))\n",
    "\n",
    "# Input string\n",
    "input_str = \"Hello, this is a sample string with vowels!\"\n",
    "\n",
    "# Use filter to remove the vowels\n",
    "result = remove_vowels(input_str)\n",
    "\n",
    "# Output the result\n",
    "print(result)"
   ]
  },
  {
   "cell_type": "code",
   "execution_count": 22,
   "id": "fb880f09-2dfd-44ef-8868-5cfb16685f06",
   "metadata": {},
   "outputs": [
    {
     "name": "stdout",
     "output_type": "stream",
     "text": [
      "[(34587, 163.8), (98762, 284.0), (77226, 108.85000000000001), (88112, 84.97)]\n"
     ]
    }
   ],
   "source": [
    "#  11) Imagine an accounting routine used in a book shop. It works on a list with sublists, which look like this:\n",
    "#  Write a Python program, which returns a list with 2-tuples. Each tuple consists of the order number and the \n",
    "# product of the price per item and the quantity. The product should be increased by 10,- € if the value of the \n",
    "# order is smaller than 100,00 €.\n",
    "#  Write a Python program using lambda and map.\n",
    "\n",
    "orders = [\n",
    "    [34587, \"Learning Python, Mark Lutz\", 4, 40.95],\n",
    "    [98762, \"Programming Python, Mark Lutz\", 5, 56.80],\n",
    "    [77226, \"Head First Python, Paul Barry\", 3, 32.95],\n",
    "    [88112, \"Einführung in Python3, Bernd Klein\", 3, 24.99]\n",
    "]\n",
    "\n",
    "result = list(map(lambda order: (order[0], order[3] * order[2] + (10 if order[3] * order[2] < 100 else 0)), orders))\n",
    "\n",
    "print(result)"
   ]
  },
  {
   "cell_type": "code",
   "execution_count": null,
   "id": "c2209331-9798-42cf-a131-4865f004c854",
   "metadata": {},
   "outputs": [],
   "source": []
  }
 ],
 "metadata": {
  "kernelspec": {
   "display_name": "Python 3 (ipykernel)",
   "language": "python",
   "name": "python3"
  },
  "language_info": {
   "codemirror_mode": {
    "name": "ipython",
    "version": 3
   },
   "file_extension": ".py",
   "mimetype": "text/x-python",
   "name": "python",
   "nbconvert_exporter": "python",
   "pygments_lexer": "ipython3",
   "version": "3.12.3"
  }
 },
 "nbformat": 4,
 "nbformat_minor": 5
}
